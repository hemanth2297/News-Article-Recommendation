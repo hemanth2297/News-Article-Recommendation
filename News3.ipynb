{
 "cells": [
  {
   "cell_type": "code",
   "execution_count": 168,
   "metadata": {
    "collapsed": true
   },
   "outputs": [],
   "source": [
    "import pandas as pd\n",
    "import numpy as np\n",
    "import string\n",
    "from sklearn.model_selection import train_test_split\n",
    "from sklearn.metrics import accuracy_score,confusion_matrix,roc_auc_score\n",
    "from keras.models import Sequential\n",
    "from keras.layers import Dense\n",
    "from keras.wrappers.scikit_learn import KerasClassifier\n",
    "from sklearn.model_selection import cross_val_score\n",
    "from sklearn.preprocessing import LabelEncoder\n",
    "from sklearn.model_selection import StratifiedKFold\n",
    "from sklearn.preprocessing import StandardScaler\n",
    "from sklearn.pipeline import Pipeline\n",
    "import xgboost as xgb\n",
    "from imblearn.ensemble import BalancedBaggingClassifier\n",
    "from imblearn.under_sampling import RandomUnderSampler\n",
    "from sklearn.linear_model import LinearRegression,LogisticRegression\n",
    "from collections import Counter\n",
    "from imblearn.combine import SMOTEENN\n"
   ]
  },
  {
   "cell_type": "code",
   "execution_count": 8,
   "metadata": {
    "collapsed": true
   },
   "outputs": [],
   "source": [
    "train1=pd.read_csv('/Users/hemanth/Downloads/News/Train/Train_1.csv')\n",
    "train2=pd.read_csv('/Users/hemanth/Downloads/News/Train/Train_2.csv')\n",
    "train3=pd.read_csv('/Users/hemanth/Downloads/News/Train/Train_3.csv')\n",
    "train4=pd.read_csv('/Users/hemanth/Downloads/News/Train/Train_4.csv')\n",
    "train5=pd.read_csv('/Users/hemanth/Downloads/News/Train/Train_5.csv')\n",
    "train6=pd.read_csv('/Users/hemanth/Downloads/News/Train/Train_6.csv')\n",
    "train7=pd.read_csv('/Users/hemanth/Downloads/News/Train/Train_7.csv')\n",
    "train8=pd.read_csv('/Users/hemanth/Downloads/News/Train/Train_8.csv')\n",
    "train9=pd.read_csv('/Users/hemanth/Downloads/News/Train/Train_9.csv')\n",
    "train10=pd.read_csv('/Users/hemanth/Downloads/News/Train/Train_10.csv')\n",
    "train=pd.concat([train1,train2,train3,train4,train5,train6,train7,train8,train9,train10])"
   ]
  },
  {
   "cell_type": "code",
   "execution_count": 11,
   "metadata": {
    "collapsed": true
   },
   "outputs": [],
   "source": [
    "df1=pd.read_excel(\"/Users/hemanth/Downloads/News/Item_Category_Map/Item_Category_Map_1.xlsx\")\n",
    "df2=pd.read_excel(\"/Users/hemanth/Downloads/News/Item_Category_Map/Item_Category_Map_2.xlsx\")\n",
    "cat=pd.concat([df1,df2])"
   ]
  },
  {
   "cell_type": "code",
   "execution_count": 82,
   "metadata": {
    "collapsed": true
   },
   "outputs": [],
   "source": [
    "df1=pd.read_csv(\"/Users/hemanth/Downloads/News/Item_Attributes/Item_Attributes_1.csv\")\n",
    "df2=pd.read_csv(\"/Users/hemanth/Downloads/News/Item_Attributes/Item_Attributes_2.csv\")\n",
    "df3=pd.read_csv(\"/Users/hemanth/Downloads/News/Item_Attributes/Item_Attributes_3.csv\")\n",
    "att=pd.concat([df1,df2,df3])"
   ]
  },
  {
   "cell_type": "code",
   "execution_count": 9,
   "metadata": {
    "collapsed": true
   },
   "outputs": [],
   "source": [
    "test=pd.read_csv(\"/Users/hemanth/Downloads/News/test-data.csv\")"
   ]
  },
  {
   "cell_type": "code",
   "execution_count": 78,
   "metadata": {},
   "outputs": [
    {
     "name": "stderr",
     "output_type": "stream",
     "text": [
      "/Users/hemanth/anaconda/lib/python2.7/site-packages/IPython/core/interactiveshell.py:2717: DtypeWarning: Columns (5) have mixed types. Specify dtype option on import or set low_memory=False.\n",
      "  interactivity=interactivity, compiler=compiler, result=result)\n"
     ]
    }
   ],
   "source": [
    "imp=pd.read_csv(\"/Users/hemanth/Downloads/News/imp.csv\")"
   ]
  },
  {
   "cell_type": "code",
   "execution_count": 1,
   "metadata": {},
   "outputs": [],
   "source": [
    "df=pd.read_csv(\"/Users/hemanth/Downloads/News/df.csv\")"
   ]
  },
  {
   "cell_type": "code",
   "execution_count": 3,
   "metadata": {
    "collapsed": true
   },
   "outputs": [],
   "source": [
    "df_test=pd.read_csv(\"/Users/hemanth/Downloads/News/df_test.csv\")"
   ]
  },
  {
   "cell_type": "code",
   "execution_count": 132,
   "metadata": {
    "collapsed": true
   },
   "outputs": [],
   "source": [
    "import sys\n",
    "reload(sys)\n",
    "sys.setdefaultencoding('utf-8')\n",
    "\n",
    "att=att[\"item_id|title|description|timestamp_creation\"]\n",
    "li=att.astype(\"str\").str.split(\"|\")\n",
    "\n",
    "l1=[]\n",
    "for i in li:\n",
    "    if len(i)>0:\n",
    "        l1.append(i[0])\n",
    "    else:\n",
    "        l1.append(np.nan)\n",
    "\n",
    "l2=[]\n",
    "for i in li:\n",
    "    if len(i)>1:\n",
    "        l2.append(i[1])\n",
    "    else:\n",
    "        l2.append(np.nan)\n",
    "        \n",
    "df=pd.DataFrame()\n",
    "df[\"item_id\"]=pd.Series(l1)\n",
    "df[\"col1\"]=pd.Series(l2)\n",
    "\n",
    "df[\"len\"]=df[\"item_id\"].astype(\"str\").str.len()\n",
    "li=df[\"len\"]==8\n",
    "df=df[li]\n",
    "df.drop([\"len\"],axis=1,inplace=True)\n",
    "\n",
    "gh=pd.concat([pd.Series(row['item_id'],str(row['col1']).split(' ')) for _, row in df.iterrows()]).reset_index()\n",
    "gh.columns=[[\"word\",\"item_id\"]]\n",
    "gh[\"word\"]=gh['word'].map(lambda x: x.lstrip('1234567890').rstrip('1234567890'))\n",
    "\n",
    "from nltk.corpus import stopwords\n",
    "stop=stopwords.words(\"english\")\n",
    "\n",
    "gh[\"word\"]=gh['word'].str.lower()\n",
    "gh[\"word\"]=gh[\"word\"].apply(lambda x: x if x not in stop else np.nan)\n",
    "gh=gh.dropna()\n",
    "\n",
    "gh=gh.reset_index(drop=True)\n",
    "\n",
    "l=[]\n",
    "for i in gh[\"word\"]:\n",
    "    l.append(i)\n",
    "    \n",
    "from nltk.tokenize import RegexpTokenizer\n",
    "tokenizer = RegexpTokenizer(r'\\w+')\n",
    "\n",
    "lis=[]\n",
    "for i in l:\n",
    "    lis.append(tokenizer.tokenize(i))\n",
    "\n",
    "lk=[]\n",
    "for i in lis:\n",
    "    if len(i)>0:\n",
    "        lk.append(i[0])\n",
    "    else:\n",
    "        lk.append(np.nan)\n",
    "\n",
    "gh[\"word\"]=pd.Series(lk)\n",
    "\n",
    "item=pd.concat([gh,word])\n",
    "item=item.drop_duplicates()\n",
    "item=item.dropna()\n",
    "item=item.reset_index(drop=True)\n",
    "\n",
    "li=[]\n",
    "for i in item[\"word\"]:\n",
    "    i = \"\".join(l for l in i if l not in string.punctuation)\n",
    "    li.append(i)\n",
    "item[\"word\"]=pd.Series(li)\n",
    "\n",
    "\n",
    "item[\"len\"]=item[\"word\"].str.len()\n",
    "\n",
    "k=item['word'].map(lambda x: x.lstrip('10000000‘'))\n",
    "item[\"word\"]=pd.Series(k)\n",
    "\n",
    "li=item[\"word\"]==\"2\"\n",
    "item=item[~li]\n",
    "li=item[\"word\"]==\"\"\n",
    "item=item[~li]\n",
    "\n",
    "ch=item.groupby([\"word\"],as_index=False).count()\n",
    "ch.columns=[[\"word\",\"num\",\"num2\"]]\n",
    "item2=pd.merge(item,ch[[\"word\",\"num\"]],on=\"word\",how=\"left\")\n",
    "li=item2[\"num\"]>1\n",
    "item2=item2[li]\n",
    "\n",
    "li=item2[\"len\"]==2\n",
    "item2=item2[~li]\n",
    "\n",
    "item2.drop([\"len\",\"num\"],axis=1,inplace=True)\n",
    "item2=item2.reset_index(drop=True)\n",
    "\n",
    "item2.to_csv(\"/Users/hemanth/Downloads/News/word.csv\",index=False)"
   ]
  },
  {
   "cell_type": "code",
   "execution_count": 431,
   "metadata": {
    "collapsed": true
   },
   "outputs": [],
   "source": [
    "item=pd.read_csv(\"/Users/hemanth/Downloads/News/word.csv\")"
   ]
  },
  {
   "cell_type": "code",
   "execution_count": 441,
   "metadata": {},
   "outputs": [
    {
     "data": {
      "text/plain": [
       "False    31996\n",
       "True     12223\n",
       "Name: item_id, dtype: int64"
      ]
     },
     "execution_count": 441,
     "metadata": {},
     "output_type": "execute_result"
    }
   ],
   "source": [
    "pd.Series(item[\"item_id\"].value_counts()>8).value_counts()"
   ]
  },
  {
   "cell_type": "code",
   "execution_count": 6,
   "metadata": {
    "collapsed": true
   },
   "outputs": [],
   "source": [
    "ch=df_test.copy()"
   ]
  },
  {
   "cell_type": "code",
   "execution_count": 16,
   "metadata": {
    "collapsed": true
   },
   "outputs": [],
   "source": [
    "ch=ch[[\"impression_id\",\"item_id\"]]"
   ]
  },
  {
   "cell_type": "code",
   "execution_count": 17,
   "metadata": {},
   "outputs": [
    {
     "name": "stderr",
     "output_type": "stream",
     "text": [
      "/Users/hemanth/anaconda/lib/python2.7/site-packages/ipykernel_launcher.py:1: SettingWithCopyWarning: \n",
      "A value is trying to be set on a copy of a slice from a DataFrame.\n",
      "Try using .loc[row_indexer,col_indexer] = value instead\n",
      "\n",
      "See the caveats in the documentation: http://pandas.pydata.org/pandas-docs/stable/indexing.html#indexing-view-versus-copy\n",
      "  \"\"\"Entry point for launching an IPython kernel.\n"
     ]
    }
   ],
   "source": [
    "ch[\"click\"]=np.zeros(len(ch))"
   ]
  },
  {
   "cell_type": "code",
   "execution_count": 18,
   "metadata": {
    "collapsed": true
   },
   "outputs": [],
   "source": [
    "check=pd.merge(test,ch,on=[\"impression_id\",\"item_id\"],how=\"left\")"
   ]
  },
  {
   "cell_type": "code",
   "execution_count": 20,
   "metadata": {
    "collapsed": true
   },
   "outputs": [],
   "source": [
    "li=check[\"click\"].isnull()"
   ]
  },
  {
   "cell_type": "code",
   "execution_count": 21,
   "metadata": {
    "collapsed": true
   },
   "outputs": [],
   "source": [
    "check=check[li]"
   ]
  },
  {
   "cell_type": "code",
   "execution_count": 27,
   "metadata": {
    "collapsed": true
   },
   "outputs": [],
   "source": [
    "item=df[[\"item_id\",\"per_item\"]]"
   ]
  },
  {
   "cell_type": "code",
   "execution_count": null,
   "metadata": {
    "collapsed": true
   },
   "outputs": [],
   "source": []
  },
  {
   "cell_type": "code",
   "execution_count": null,
   "metadata": {
    "collapsed": true
   },
   "outputs": [],
   "source": [
    "check=pd.merge(check,item,on=[\"item_id\"],how=\"left\")"
   ]
  },
  {
   "cell_type": "code",
   "execution_count": 11,
   "metadata": {},
   "outputs": [
    {
     "name": "stderr",
     "output_type": "stream",
     "text": [
      "/Users/hemanth/anaconda/lib/python2.7/site-packages/IPython/core/interactiveshell.py:2717: DtypeWarning: Columns (9) have mixed types. Specify dtype option on import or set low_memory=False.\n",
      "  interactivity=interactivity, compiler=compiler, result=result)\n"
     ]
    }
   ],
   "source": [
    "train=pd.read_csv('/Users/hemanth/Downloads/df.csv')"
   ]
  },
  {
   "cell_type": "code",
   "execution_count": 14,
   "metadata": {
    "collapsed": true
   },
   "outputs": [],
   "source": [
    "train.drop([\"impression_id\",\"refrenceUrl\",\"time\",\"hour\",\"timestamp_impression\",\"Day\",\"item_id\",\"uuid\",\"uvh\",\"geo\",\"site_id\",\"adunit_id\",'per_uuid','no_uuid'],axis=1,inplace=True)"
   ]
  },
  {
   "cell_type": "code",
   "execution_count": 17,
   "metadata": {
    "collapsed": true
   },
   "outputs": [],
   "source": [
    "train=train.fillna(0)"
   ]
  },
  {
   "cell_type": "code",
   "execution_count": 137,
   "metadata": {
    "collapsed": true
   },
   "outputs": [],
   "source": [
    "test=test.fillna(0)"
   ]
  },
  {
   "cell_type": "code",
   "execution_count": 68,
   "metadata": {
    "collapsed": true
   },
   "outputs": [],
   "source": [
    "train.drop(['click'],axis=1,inplace=True)"
   ]
  },
  {
   "cell_type": "code",
   "execution_count": 69,
   "metadata": {
    "collapsed": true
   },
   "outputs": [],
   "source": [
    "X_train,X_test,y_train,y_test=train_test_split(train.values,Y,test_size=0.3)"
   ]
  },
  {
   "cell_type": "code",
   "execution_count": 48,
   "metadata": {
    "collapsed": true
   },
   "outputs": [],
   "source": [
    "model = Sequential()\n",
    "model.add(Dense(60, input_dim=6, kernel_initializer='normal', activation='relu'))\n",
    "# model.add(Dense(30, kernel_initializer='normal', activation='relu'))\n",
    "model.add(Dense(1, kernel_initializer='normal', activation='sigmoid'))\n",
    "model.compile(loss='binary_crossentropy', optimizer='adam', metrics=['mean_squared_error'])"
   ]
  },
  {
   "cell_type": "code",
   "execution_count": 49,
   "metadata": {},
   "outputs": [
    {
     "name": "stdout",
     "output_type": "stream",
     "text": [
      "Epoch 1/1\n",
      "12602429/12602429 [==============================] - 164s - loss: -1.3866 - mean_squared_error: 0.0181   \n"
     ]
    },
    {
     "data": {
      "text/plain": [
       "<keras.callbacks.History at 0x10c2efed0>"
      ]
     },
     "execution_count": 49,
     "metadata": {},
     "output_type": "execute_result"
    }
   ],
   "source": [
    "model.fit(X_train,y_train,epochs=1,batch_size=256,class_weight={1:1,2:5})"
   ]
  },
  {
   "cell_type": "code",
   "execution_count": 50,
   "metadata": {
    "collapsed": true
   },
   "outputs": [],
   "source": [
    "preds=model.predict(X_test,batch_size=256)"
   ]
  },
  {
   "cell_type": "code",
   "execution_count": 51,
   "metadata": {
    "collapsed": true
   },
   "outputs": [],
   "source": [
    "preds=preds.reshape(1,-1)"
   ]
  },
  {
   "cell_type": "code",
   "execution_count": 67,
   "metadata": {},
   "outputs": [
    {
     "name": "stderr",
     "output_type": "stream",
     "text": [
      "/Users/hemanth/anaconda/lib/python2.7/site-packages/ipykernel_launcher.py:2: SettingWithCopyWarning: \n",
      "A value is trying to be set on a copy of a slice from a DataFrame\n",
      "\n",
      "See the caveats in the documentation: http://pandas.pydata.org/pandas-docs/stable/indexing.html#indexing-view-versus-copy\n",
      "  \n"
     ]
    }
   ],
   "source": [
    "Y=train['click']\n",
    "Y[Y==2]=0"
   ]
  },
  {
   "cell_type": "code",
   "execution_count": 94,
   "metadata": {
    "collapsed": true
   },
   "outputs": [],
   "source": [
    "test=pd.read_csv(\"/Users/hemanth/Downloads/df_test.csv\")"
   ]
  },
  {
   "cell_type": "code",
   "execution_count": 134,
   "metadata": {
    "collapsed": true
   },
   "outputs": [],
   "source": [
    "test.drop([\"impression_id\",\"refrenceUrl\",\"time\",\"hour\",\"timestamp_impression\",\"Day\",\"item_id\",\"uuid\",\"uvh\",\"geo\",\"site_id\",\"adunit_id\",'per_uuid','no_uuid'],axis=1,inplace=True)"
   ]
  },
  {
   "cell_type": "code",
   "execution_count": 112,
   "metadata": {
    "collapsed": true
   },
   "outputs": [],
   "source": [
    "params={\n",
    "    'objective':'multi:softprob',\n",
    "    'num_class':2,\n",
    "    'eta':0.1,\n",
    "}\n",
    "\n",
    "# w=np.zeros(len(Y))\n",
    "# w[Y==0]=3\n",
    "# w[Y==1]=1\n",
    "\n",
    "w1=np.zeros(len(y_train))\n",
    "w1[y_train==0]=55\n",
    "w1[y_train==1]=1\n",
    "\n",
    "def run(X,Y,test,params,w):\n",
    "    dtrain=xgb.DMatrix(X,label=Y,weight=w)\n",
    "    dtest=xgb.DMatrix(test)\n",
    "    bst=xgb.train(params,dtrain)\n",
    "    prods=bst.predict(dtest)\n",
    "    return prods"
   ]
  },
  {
   "cell_type": "code",
   "execution_count": 151,
   "metadata": {
    "collapsed": true
   },
   "outputs": [],
   "source": [
    "preds=run(X_resampled, y_resampled,X_test,params,w1)"
   ]
  },
  {
   "cell_type": "code",
   "execution_count": 155,
   "metadata": {
    "collapsed": true
   },
   "outputs": [],
   "source": [
    "preds1=preds[:,1]"
   ]
  },
  {
   "cell_type": "code",
   "execution_count": 156,
   "metadata": {},
   "outputs": [
    {
     "data": {
      "text/plain": [
       "0.82891702372993281"
      ]
     },
     "execution_count": 156,
     "metadata": {},
     "output_type": "execute_result"
    }
   ],
   "source": [
    "roc_auc_score(y_test,preds1)"
   ]
  },
  {
   "cell_type": "code",
   "execution_count": 157,
   "metadata": {
    "collapsed": true
   },
   "outputs": [],
   "source": [
    "preds2=(preds1>0.5).astype('int')"
   ]
  },
  {
   "cell_type": "code",
   "execution_count": 158,
   "metadata": {},
   "outputs": [
    {
     "name": "stdout",
     "output_type": "stream",
     "text": [
      "0.703439447425\n",
      "[[  75745   19133]\n",
      " [1582603 3723561]]\n"
     ]
    }
   ],
   "source": [
    "print accuracy_score(y_test,preds2)\n",
    "print confusion_matrix(y_test,preds2)"
   ]
  },
  {
   "cell_type": "code",
   "execution_count": 111,
   "metadata": {},
   "outputs": [
    {
     "name": "stdout",
     "output_type": "stream",
     "text": [
      "0.702668114782\n",
      "[[  76207   18671]\n",
      " [1587231 3718933]]\n"
     ]
    }
   ],
   "source": [
    "print accuracy_score(y_test,preds2)\n",
    "print confusion_matrix(y_test,preds2)"
   ]
  },
  {
   "cell_type": "code",
   "execution_count": 130,
   "metadata": {
    "collapsed": true
   },
   "outputs": [],
   "source": [
    "bbc = BalancedBaggingClassifier(base_estimator=LogisticRegression())\n",
    "# bbc.fit(X_train,y_train)"
   ]
  },
  {
   "cell_type": "code",
   "execution_count": 122,
   "metadata": {
    "collapsed": true
   },
   "outputs": [],
   "source": [
    "pred=bbc.predict_proba(X_test)"
   ]
  },
  {
   "cell_type": "code",
   "execution_count": 124,
   "metadata": {
    "collapsed": true
   },
   "outputs": [],
   "source": [
    "pred1=pred[:,1]"
   ]
  },
  {
   "cell_type": "code",
   "execution_count": 125,
   "metadata": {},
   "outputs": [
    {
     "data": {
      "text/plain": [
       "array([ 0.78429974,  0.57356926,  0.09791792, ...,  0.48422523,\n",
       "        0.78668007,  0.69088311])"
      ]
     },
     "execution_count": 125,
     "metadata": {},
     "output_type": "execute_result"
    }
   ],
   "source": [
    "pred1"
   ]
  },
  {
   "cell_type": "code",
   "execution_count": 126,
   "metadata": {},
   "outputs": [
    {
     "data": {
      "text/plain": [
       "0.80195165751778297"
      ]
     },
     "execution_count": 126,
     "metadata": {},
     "output_type": "execute_result"
    }
   ],
   "source": [
    "roc_auc_score(y_test,pred1)"
   ]
  },
  {
   "cell_type": "code",
   "execution_count": 127,
   "metadata": {
    "collapsed": true
   },
   "outputs": [],
   "source": [
    "pred2=(pred1>0.5).astype('int')"
   ]
  },
  {
   "cell_type": "code",
   "execution_count": 129,
   "metadata": {},
   "outputs": [
    {
     "name": "stdout",
     "output_type": "stream",
     "text": [
      "0.747841805341\n",
      "[[  65370   29508]\n",
      " [1332409 3973755]]\n"
     ]
    }
   ],
   "source": [
    "print accuracy_score(y_test,pred2)\n",
    "print confusion_matrix(y_test,pred2)"
   ]
  },
  {
   "cell_type": "code",
   "execution_count": 131,
   "metadata": {},
   "outputs": [
    {
     "data": {
      "text/plain": [
       "BalancedBaggingClassifier(base_estimator=LogisticRegression(C=1.0, class_weight=None, dual=False, fit_intercept=True,\n",
       "          intercept_scaling=1, max_iter=100, multi_class='ovr', n_jobs=1,\n",
       "          penalty='l2', random_state=None, solver='liblinear', tol=0.0001,\n",
       "          verbose=0, warm_start=False),\n",
       "             bootstrap=True, bootstrap_features=False, max_features=1.0,\n",
       "             max_samples=1.0, n_estimators=10, n_jobs=1, oob_score=False,\n",
       "             random_state=None, ratio='auto', replacement=False, verbose=0,\n",
       "             warm_start=False)"
      ]
     },
     "execution_count": 131,
     "metadata": {},
     "output_type": "execute_result"
    }
   ],
   "source": [
    "bbc.fit(train.values,Y.values)"
   ]
  },
  {
   "cell_type": "code",
   "execution_count": 132,
   "metadata": {
    "collapsed": true
   },
   "outputs": [],
   "source": [
    "test=pd.read_csv('/Users/hemanth/Downloads/df_test.csv')"
   ]
  },
  {
   "cell_type": "code",
   "execution_count": 140,
   "metadata": {
    "collapsed": true
   },
   "outputs": [],
   "source": [
    "f=bbc.predict(test.values)"
   ]
  },
  {
   "cell_type": "code",
   "execution_count": 141,
   "metadata": {},
   "outputs": [
    {
     "data": {
      "text/plain": [
       "0    156539\n",
       "1    138208\n",
       "dtype: int64"
      ]
     },
     "execution_count": 141,
     "metadata": {},
     "output_type": "execute_result"
    }
   ],
   "source": [
    "pd.Series(f).value_counts()"
   ]
  },
  {
   "cell_type": "code",
   "execution_count": 166,
   "metadata": {
    "collapsed": true
   },
   "outputs": [],
   "source": [
    "f=pd.Series(f)"
   ]
  },
  {
   "cell_type": "code",
   "execution_count": 167,
   "metadata": {
    "collapsed": true
   },
   "outputs": [],
   "source": [
    "f.to_csv(\"/Users/hemanth/Desktop/bblr1.csv\",index=False)"
   ]
  },
  {
   "cell_type": "code",
   "execution_count": null,
   "metadata": {
    "collapsed": true
   },
   "outputs": [],
   "source": [
    "sm = SMOTEENN()\n",
    "X_resampled, y_resampled = sm.fit_sample(X_train, y_train)"
   ]
  },
  {
   "cell_type": "code",
   "execution_count": 161,
   "metadata": {
    "collapsed": true
   },
   "outputs": [],
   "source": [
    "rus = RandomUnderSampler(random_state=0)\n",
    "X_res, y_res = rus.fit_sample(train.values, Y.values)"
   ]
  },
  {
   "cell_type": "code",
   "execution_count": 163,
   "metadata": {},
   "outputs": [
    {
     "name": "stdout",
     "output_type": "stream",
     "text": [
      "[(0, 316179), (1, 316179)]\n",
      "[(0, 316179), (1, 17687292)]\n"
     ]
    }
   ],
   "source": [
    "print(sorted(Counter(y_resampled).items()))\n",
    "print(sorted(Counter(y_train).items()))"
   ]
  },
  {
   "cell_type": "code",
   "execution_count": 159,
   "metadata": {
    "collapsed": true
   },
   "outputs": [],
   "source": [
    "lr=LogisticRegression()\n",
    "lr.fit(X_resampled, y_resampled)\n",
    "preds=lr.predict(X_test)"
   ]
  },
  {
   "cell_type": "code",
   "execution_count": 160,
   "metadata": {},
   "outputs": [
    {
     "name": "stdout",
     "output_type": "stream",
     "text": [
      "0.748521489002\n",
      "[[  65312   29566]\n",
      " [1328680 3977484]]\n"
     ]
    }
   ],
   "source": [
    "print accuracy_score(y_test,preds)\n",
    "print confusion_matrix(y_test,preds)"
   ]
  },
  {
   "cell_type": "code",
   "execution_count": 164,
   "metadata": {
    "collapsed": true
   },
   "outputs": [],
   "source": [
    "lr=LogisticRegression()\n",
    "lr.fit(X_res,y_res)\n",
    "f=lr.predict(test.values)"
   ]
  },
  {
   "cell_type": "code",
   "execution_count": null,
   "metadata": {
    "collapsed": true
   },
   "outputs": [],
   "source": []
  }
 ],
 "metadata": {
  "kernelspec": {
   "display_name": "Python 2",
   "language": "python",
   "name": "python2"
  },
  "language_info": {
   "codemirror_mode": {
    "name": "ipython",
    "version": 2
   },
   "file_extension": ".py",
   "mimetype": "text/x-python",
   "name": "python",
   "nbconvert_exporter": "python",
   "pygments_lexer": "ipython2",
   "version": "2.7.14"
  }
 },
 "nbformat": 4,
 "nbformat_minor": 2
}
